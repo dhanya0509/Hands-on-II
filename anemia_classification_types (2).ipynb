{
  "nbformat": 4,
  "nbformat_minor": 0,
  "metadata": {
    "colab": {
      "provenance": []
    },
    "kernelspec": {
      "name": "python3",
      "display_name": "Python 3"
    },
    "language_info": {
      "name": "python"
    }
  },
  "cells": [
    {
      "cell_type": "code",
      "execution_count": 13,
      "metadata": {
        "id": "MdaK2EfXcGEg"
      },
      "outputs": [],
      "source": [
        "import pandas as pd\n",
        "import numpy as np\n",
        "from sklearn.preprocessing import StandardScaler\n",
        "from sklearn.tree import DecisionTreeClassifier\n",
        "from sklearn.ensemble import RandomForestClassifier, GradientBoostingClassifier\n",
        "from sklearn.model_selection import train_test_split\n",
        "from sklearn.metrics import classification_report, confusion_matrix"
      ]
    },
    {
      "cell_type": "code",
      "source": [
        "iron=pd.read_csv('/content/anemia.csv')\n",
        "iron.head()\n",
        "print(iron.count())\n",
        "iron.describe()\n",
        "iron.info()"
      ],
      "metadata": {
        "colab": {
          "base_uri": "https://localhost:8080/"
        },
        "id": "yREj82e3cyaI",
        "outputId": "28da617b-a0f7-4007-9d0e-6a8f68e7824f"
      },
      "execution_count": 14,
      "outputs": [
        {
          "output_type": "stream",
          "name": "stdout",
          "text": [
            "WBC          1281\n",
            "LYMp         1281\n",
            "NEUTp        1281\n",
            "LYMn         1281\n",
            "NEUTn        1281\n",
            "RBC          1281\n",
            "HGB          1281\n",
            "HCT          1281\n",
            "MCV          1281\n",
            "MCH          1281\n",
            "MCHC         1281\n",
            "PLT          1281\n",
            "PDW          1281\n",
            "PCT          1281\n",
            "Diagnosis    1281\n",
            "dtype: int64\n",
            "<class 'pandas.core.frame.DataFrame'>\n",
            "RangeIndex: 1281 entries, 0 to 1280\n",
            "Data columns (total 15 columns):\n",
            " #   Column     Non-Null Count  Dtype  \n",
            "---  ------     --------------  -----  \n",
            " 0   WBC        1281 non-null   float64\n",
            " 1   LYMp       1281 non-null   float64\n",
            " 2   NEUTp      1281 non-null   float64\n",
            " 3   LYMn       1281 non-null   float64\n",
            " 4   NEUTn      1281 non-null   float64\n",
            " 5   RBC        1281 non-null   float64\n",
            " 6   HGB        1281 non-null   float64\n",
            " 7   HCT        1281 non-null   float64\n",
            " 8   MCV        1281 non-null   float64\n",
            " 9   MCH        1281 non-null   float64\n",
            " 10  MCHC       1281 non-null   float64\n",
            " 11  PLT        1281 non-null   float64\n",
            " 12  PDW        1281 non-null   float64\n",
            " 13  PCT        1281 non-null   float64\n",
            " 14  Diagnosis  1281 non-null   object \n",
            "dtypes: float64(14), object(1)\n",
            "memory usage: 150.2+ KB\n"
          ]
        }
      ]
    },
    {
      "cell_type": "code",
      "source": [
        "missing_values=iron.isnull().sum()\n",
        "print(missing_values)"
      ],
      "metadata": {
        "colab": {
          "base_uri": "https://localhost:8080/"
        },
        "id": "35S6iWn0c4m_",
        "outputId": "8d8dcd81-4ef5-437c-ee1d-965550ab1b1e"
      },
      "execution_count": 15,
      "outputs": [
        {
          "output_type": "stream",
          "name": "stdout",
          "text": [
            "WBC          0\n",
            "LYMp         0\n",
            "NEUTp        0\n",
            "LYMn         0\n",
            "NEUTn        0\n",
            "RBC          0\n",
            "HGB          0\n",
            "HCT          0\n",
            "MCV          0\n",
            "MCH          0\n",
            "MCHC         0\n",
            "PLT          0\n",
            "PDW          0\n",
            "PCT          0\n",
            "Diagnosis    0\n",
            "dtype: int64\n"
          ]
        }
      ]
    },
    {
      "cell_type": "code",
      "source": [
        "for column in iron.columns:\n",
        "  if pd.api.types.is_numeric_dtype(iron[column]):\n",
        "    z_score=(iron[column]-iron[column].mean())/iron[column].std()\n",
        "    outliers=iron[abs(z_score)>3]\n",
        "    iron_filtered=iron.drop(outliers.index)\n",
        "print(outliers.count())"
      ],
      "metadata": {
        "id": "1a1QRVzqdDmK",
        "colab": {
          "base_uri": "https://localhost:8080/"
        },
        "outputId": "b986cd72-ad02-4719-85d2-cb74217a88d0"
      },
      "execution_count": 16,
      "outputs": [
        {
          "output_type": "stream",
          "name": "stdout",
          "text": [
            "WBC          4\n",
            "LYMp         4\n",
            "NEUTp        4\n",
            "LYMn         4\n",
            "NEUTn        4\n",
            "RBC          4\n",
            "HGB          4\n",
            "HCT          4\n",
            "MCV          4\n",
            "MCH          4\n",
            "MCHC         4\n",
            "PLT          4\n",
            "PDW          4\n",
            "PCT          4\n",
            "Diagnosis    4\n",
            "dtype: int64\n"
          ]
        }
      ]
    },
    {
      "cell_type": "code",
      "source": [
        "print(iron_filtered.count())"
      ],
      "metadata": {
        "colab": {
          "base_uri": "https://localhost:8080/"
        },
        "id": "Ac7lZw_sdkP5",
        "outputId": "bef158f9-6fd6-4fd8-8ea9-b7d0c7b0ea74"
      },
      "execution_count": 17,
      "outputs": [
        {
          "output_type": "stream",
          "name": "stdout",
          "text": [
            "WBC          1277\n",
            "LYMp         1277\n",
            "NEUTp        1277\n",
            "LYMn         1277\n",
            "NEUTn        1277\n",
            "RBC          1277\n",
            "HGB          1277\n",
            "HCT          1277\n",
            "MCV          1277\n",
            "MCH          1277\n",
            "MCHC         1277\n",
            "PLT          1277\n",
            "PDW          1277\n",
            "PCT          1277\n",
            "Diagnosis    1277\n",
            "dtype: int64\n"
          ]
        }
      ]
    },
    {
      "cell_type": "code",
      "source": [
        "duplicate_count=iron_filtered.duplicated()\n",
        "print('The duplicates in the data are:',duplicate_count.sum())"
      ],
      "metadata": {
        "id": "NRwcv7Gmg72d",
        "colab": {
          "base_uri": "https://localhost:8080/"
        },
        "outputId": "16b305b2-0e4a-44e7-8b98-5654aaeed9f7"
      },
      "execution_count": 18,
      "outputs": [
        {
          "output_type": "stream",
          "name": "stdout",
          "text": [
            "The duplicates in the data are: 49\n"
          ]
        }
      ]
    },
    {
      "cell_type": "code",
      "source": [
        "iron_filtered=iron_filtered.drop_duplicates()\n",
        "print(iron_filtered.count())"
      ],
      "metadata": {
        "colab": {
          "base_uri": "https://localhost:8080/"
        },
        "id": "S4L4AD9um-FP",
        "outputId": "a289fa07-f074-4257-97f1-0c69c8dfbbfe"
      },
      "execution_count": 19,
      "outputs": [
        {
          "output_type": "stream",
          "name": "stdout",
          "text": [
            "WBC          1228\n",
            "LYMp         1228\n",
            "NEUTp        1228\n",
            "LYMn         1228\n",
            "NEUTn        1228\n",
            "RBC          1228\n",
            "HGB          1228\n",
            "HCT          1228\n",
            "MCV          1228\n",
            "MCH          1228\n",
            "MCHC         1228\n",
            "PLT          1228\n",
            "PDW          1228\n",
            "PCT          1228\n",
            "Diagnosis    1228\n",
            "dtype: int64\n"
          ]
        }
      ]
    },
    {
      "cell_type": "code",
      "source": [
        "iron_filtered.to_csv('/content/anemia_filtered.csv')"
      ],
      "metadata": {
        "id": "OcNa66obnGFw"
      },
      "execution_count": 20,
      "outputs": []
    },
    {
      "cell_type": "code",
      "source": [
        "X=iron_filtered.drop('Diagnosis',axis=1)\n",
        "y=iron_filtered['Diagnosis']\n",
        "\n",
        "\n",
        "# Now apply StandardScaler only to the features (X)\n",
        "scaler = StandardScaler()\n",
        "X_scaled = pd.DataFrame(scaler.fit_transform(X), columns=X.columns)\n",
        "\n",
        "# Concatenate scaled features with the target variable\n",
        "iron_filtered_scaled = pd.concat([X_scaled, y], axis=1)\n",
        "iron_filtered_scaled.head()\n",
        "X_train, X_test, y_train, y_test = train_test_split(X, y, test_size=0.3, random_state=42)"
      ],
      "metadata": {
        "id": "kCD_4XY61bGn"
      },
      "execution_count": 23,
      "outputs": []
    },
    {
      "cell_type": "code",
      "source": [
        "#Apply random forest model\n",
        "random_forest = RandomForestClassifier(n_estimators=300, criterion='gini', max_depth=None, random_state=42)\n",
        "model_fit=random_forest.fit(X_train, y_train)\n",
        "#make predictions\n",
        "y_pred = model_fit.predict(X_test)"
      ],
      "metadata": {
        "id": "T-Y0lr-px9mt"
      },
      "execution_count": 24,
      "outputs": []
    },
    {
      "cell_type": "code",
      "source": [
        "# Training accuracy\n",
        "training_accuracy = model_fit.score(X_train, y_train)\n",
        "print(f\"Training Accuracy: {training_accuracy:.2f}\")\n"
      ],
      "metadata": {
        "colab": {
          "base_uri": "https://localhost:8080/"
        },
        "id": "84FWa2is8cSd",
        "outputId": "2ccb9728-b0ab-45db-930b-5ee4b339951f"
      },
      "execution_count": 25,
      "outputs": [
        {
          "output_type": "stream",
          "name": "stdout",
          "text": [
            "Training Accuracy: 1.00\n"
          ]
        }
      ]
    },
    {
      "cell_type": "code",
      "source": [
        "print(classification_report(y_test,y_pred))"
      ],
      "metadata": {
        "id": "OmVEthaV1YIB",
        "colab": {
          "base_uri": "https://localhost:8080/"
        },
        "outputId": "a5feac57-d938-41a2-f54b-82388d246ea1"
      },
      "execution_count": 26,
      "outputs": [
        {
          "output_type": "stream",
          "name": "stdout",
          "text": [
            "                                precision    recall  f1-score   support\n",
            "\n",
            "                       Healthy       0.98      1.00      0.99        93\n",
            "        Iron deficiency anemia       1.00      1.00      1.00        61\n",
            "                      Leukemia       1.00      1.00      1.00         7\n",
            "Leukemia with thrombocytopenia       0.60      1.00      0.75         3\n",
            "             Macrocytic anemia       0.00      0.00      0.00         3\n",
            " Normocytic hypochromic anemia       0.97      0.99      0.98        88\n",
            "Normocytic normochromic anemia       1.00      0.97      0.99        75\n",
            "       Other microcytic anemia       1.00      1.00      1.00        17\n",
            "              Thrombocytopenia       1.00      0.95      0.98        22\n",
            "\n",
            "                      accuracy                           0.98       369\n",
            "                     macro avg       0.84      0.88      0.85       369\n",
            "                  weighted avg       0.98      0.98      0.98       369\n",
            "\n"
          ]
        },
        {
          "output_type": "stream",
          "name": "stderr",
          "text": [
            "/usr/local/lib/python3.10/dist-packages/sklearn/metrics/_classification.py:1531: UndefinedMetricWarning: Precision is ill-defined and being set to 0.0 in labels with no predicted samples. Use `zero_division` parameter to control this behavior.\n",
            "  _warn_prf(average, modifier, f\"{metric.capitalize()} is\", len(result))\n",
            "/usr/local/lib/python3.10/dist-packages/sklearn/metrics/_classification.py:1531: UndefinedMetricWarning: Precision is ill-defined and being set to 0.0 in labels with no predicted samples. Use `zero_division` parameter to control this behavior.\n",
            "  _warn_prf(average, modifier, f\"{metric.capitalize()} is\", len(result))\n",
            "/usr/local/lib/python3.10/dist-packages/sklearn/metrics/_classification.py:1531: UndefinedMetricWarning: Precision is ill-defined and being set to 0.0 in labels with no predicted samples. Use `zero_division` parameter to control this behavior.\n",
            "  _warn_prf(average, modifier, f\"{metric.capitalize()} is\", len(result))\n"
          ]
        }
      ]
    },
    {
      "cell_type": "code",
      "source": [
        "important_features=random_forest.feature_importances_\n",
        "print(important_features)"
      ],
      "metadata": {
        "id": "kdkMvtvH7769",
        "colab": {
          "base_uri": "https://localhost:8080/"
        },
        "outputId": "e655f82b-60da-4bd3-e4ca-5282daed1abd"
      },
      "execution_count": 27,
      "outputs": [
        {
          "output_type": "stream",
          "name": "stdout",
          "text": [
            "[0.06734645 0.00897653 0.01390997 0.00959447 0.02104669 0.09079506\n",
            " 0.18960565 0.03956186 0.15977876 0.12719194 0.14003675 0.09210892\n",
            " 0.00874922 0.03129772]\n"
          ]
        }
      ]
    },
    {
      "cell_type": "code",
      "source": [
        "features=pd.DataFrame({'Feature':X.columns,'Importance':important_features})\n",
        "features.sort_values(by='Importance',ascending=False)"
      ],
      "metadata": {
        "colab": {
          "base_uri": "https://localhost:8080/",
          "height": 488
        },
        "id": "7LU_EProEWHY",
        "outputId": "987bb636-e44b-4230-ad5a-7cb60d77bd48"
      },
      "execution_count": 28,
      "outputs": [
        {
          "output_type": "execute_result",
          "data": {
            "text/plain": [
              "   Feature  Importance\n",
              "6      HGB    0.189606\n",
              "8      MCV    0.159779\n",
              "10    MCHC    0.140037\n",
              "9      MCH    0.127192\n",
              "11     PLT    0.092109\n",
              "5      RBC    0.090795\n",
              "0      WBC    0.067346\n",
              "7      HCT    0.039562\n",
              "13     PCT    0.031298\n",
              "4    NEUTn    0.021047\n",
              "2    NEUTp    0.013910\n",
              "3     LYMn    0.009594\n",
              "1     LYMp    0.008977\n",
              "12     PDW    0.008749"
            ],
            "text/html": [
              "\n",
              "  <div id=\"df-316edc26-d527-4a69-a6d9-51b14673affe\" class=\"colab-df-container\">\n",
              "    <div>\n",
              "<style scoped>\n",
              "    .dataframe tbody tr th:only-of-type {\n",
              "        vertical-align: middle;\n",
              "    }\n",
              "\n",
              "    .dataframe tbody tr th {\n",
              "        vertical-align: top;\n",
              "    }\n",
              "\n",
              "    .dataframe thead th {\n",
              "        text-align: right;\n",
              "    }\n",
              "</style>\n",
              "<table border=\"1\" class=\"dataframe\">\n",
              "  <thead>\n",
              "    <tr style=\"text-align: right;\">\n",
              "      <th></th>\n",
              "      <th>Feature</th>\n",
              "      <th>Importance</th>\n",
              "    </tr>\n",
              "  </thead>\n",
              "  <tbody>\n",
              "    <tr>\n",
              "      <th>6</th>\n",
              "      <td>HGB</td>\n",
              "      <td>0.189606</td>\n",
              "    </tr>\n",
              "    <tr>\n",
              "      <th>8</th>\n",
              "      <td>MCV</td>\n",
              "      <td>0.159779</td>\n",
              "    </tr>\n",
              "    <tr>\n",
              "      <th>10</th>\n",
              "      <td>MCHC</td>\n",
              "      <td>0.140037</td>\n",
              "    </tr>\n",
              "    <tr>\n",
              "      <th>9</th>\n",
              "      <td>MCH</td>\n",
              "      <td>0.127192</td>\n",
              "    </tr>\n",
              "    <tr>\n",
              "      <th>11</th>\n",
              "      <td>PLT</td>\n",
              "      <td>0.092109</td>\n",
              "    </tr>\n",
              "    <tr>\n",
              "      <th>5</th>\n",
              "      <td>RBC</td>\n",
              "      <td>0.090795</td>\n",
              "    </tr>\n",
              "    <tr>\n",
              "      <th>0</th>\n",
              "      <td>WBC</td>\n",
              "      <td>0.067346</td>\n",
              "    </tr>\n",
              "    <tr>\n",
              "      <th>7</th>\n",
              "      <td>HCT</td>\n",
              "      <td>0.039562</td>\n",
              "    </tr>\n",
              "    <tr>\n",
              "      <th>13</th>\n",
              "      <td>PCT</td>\n",
              "      <td>0.031298</td>\n",
              "    </tr>\n",
              "    <tr>\n",
              "      <th>4</th>\n",
              "      <td>NEUTn</td>\n",
              "      <td>0.021047</td>\n",
              "    </tr>\n",
              "    <tr>\n",
              "      <th>2</th>\n",
              "      <td>NEUTp</td>\n",
              "      <td>0.013910</td>\n",
              "    </tr>\n",
              "    <tr>\n",
              "      <th>3</th>\n",
              "      <td>LYMn</td>\n",
              "      <td>0.009594</td>\n",
              "    </tr>\n",
              "    <tr>\n",
              "      <th>1</th>\n",
              "      <td>LYMp</td>\n",
              "      <td>0.008977</td>\n",
              "    </tr>\n",
              "    <tr>\n",
              "      <th>12</th>\n",
              "      <td>PDW</td>\n",
              "      <td>0.008749</td>\n",
              "    </tr>\n",
              "  </tbody>\n",
              "</table>\n",
              "</div>\n",
              "    <div class=\"colab-df-buttons\">\n",
              "\n",
              "  <div class=\"colab-df-container\">\n",
              "    <button class=\"colab-df-convert\" onclick=\"convertToInteractive('df-316edc26-d527-4a69-a6d9-51b14673affe')\"\n",
              "            title=\"Convert this dataframe to an interactive table.\"\n",
              "            style=\"display:none;\">\n",
              "\n",
              "  <svg xmlns=\"http://www.w3.org/2000/svg\" height=\"24px\" viewBox=\"0 -960 960 960\">\n",
              "    <path d=\"M120-120v-720h720v720H120Zm60-500h600v-160H180v160Zm220 220h160v-160H400v160Zm0 220h160v-160H400v160ZM180-400h160v-160H180v160Zm440 0h160v-160H620v160ZM180-180h160v-160H180v160Zm440 0h160v-160H620v160Z\"/>\n",
              "  </svg>\n",
              "    </button>\n",
              "\n",
              "  <style>\n",
              "    .colab-df-container {\n",
              "      display:flex;\n",
              "      gap: 12px;\n",
              "    }\n",
              "\n",
              "    .colab-df-convert {\n",
              "      background-color: #E8F0FE;\n",
              "      border: none;\n",
              "      border-radius: 50%;\n",
              "      cursor: pointer;\n",
              "      display: none;\n",
              "      fill: #1967D2;\n",
              "      height: 32px;\n",
              "      padding: 0 0 0 0;\n",
              "      width: 32px;\n",
              "    }\n",
              "\n",
              "    .colab-df-convert:hover {\n",
              "      background-color: #E2EBFA;\n",
              "      box-shadow: 0px 1px 2px rgba(60, 64, 67, 0.3), 0px 1px 3px 1px rgba(60, 64, 67, 0.15);\n",
              "      fill: #174EA6;\n",
              "    }\n",
              "\n",
              "    .colab-df-buttons div {\n",
              "      margin-bottom: 4px;\n",
              "    }\n",
              "\n",
              "    [theme=dark] .colab-df-convert {\n",
              "      background-color: #3B4455;\n",
              "      fill: #D2E3FC;\n",
              "    }\n",
              "\n",
              "    [theme=dark] .colab-df-convert:hover {\n",
              "      background-color: #434B5C;\n",
              "      box-shadow: 0px 1px 3px 1px rgba(0, 0, 0, 0.15);\n",
              "      filter: drop-shadow(0px 1px 2px rgba(0, 0, 0, 0.3));\n",
              "      fill: #FFFFFF;\n",
              "    }\n",
              "  </style>\n",
              "\n",
              "    <script>\n",
              "      const buttonEl =\n",
              "        document.querySelector('#df-316edc26-d527-4a69-a6d9-51b14673affe button.colab-df-convert');\n",
              "      buttonEl.style.display =\n",
              "        google.colab.kernel.accessAllowed ? 'block' : 'none';\n",
              "\n",
              "      async function convertToInteractive(key) {\n",
              "        const element = document.querySelector('#df-316edc26-d527-4a69-a6d9-51b14673affe');\n",
              "        const dataTable =\n",
              "          await google.colab.kernel.invokeFunction('convertToInteractive',\n",
              "                                                    [key], {});\n",
              "        if (!dataTable) return;\n",
              "\n",
              "        const docLinkHtml = 'Like what you see? Visit the ' +\n",
              "          '<a target=\"_blank\" href=https://colab.research.google.com/notebooks/data_table.ipynb>data table notebook</a>'\n",
              "          + ' to learn more about interactive tables.';\n",
              "        element.innerHTML = '';\n",
              "        dataTable['output_type'] = 'display_data';\n",
              "        await google.colab.output.renderOutput(dataTable, element);\n",
              "        const docLink = document.createElement('div');\n",
              "        docLink.innerHTML = docLinkHtml;\n",
              "        element.appendChild(docLink);\n",
              "      }\n",
              "    </script>\n",
              "  </div>\n",
              "\n",
              "\n",
              "<div id=\"df-1a483bcf-fda2-4136-812a-202a0103aeea\">\n",
              "  <button class=\"colab-df-quickchart\" onclick=\"quickchart('df-1a483bcf-fda2-4136-812a-202a0103aeea')\"\n",
              "            title=\"Suggest charts\"\n",
              "            style=\"display:none;\">\n",
              "\n",
              "<svg xmlns=\"http://www.w3.org/2000/svg\" height=\"24px\"viewBox=\"0 0 24 24\"\n",
              "     width=\"24px\">\n",
              "    <g>\n",
              "        <path d=\"M19 3H5c-1.1 0-2 .9-2 2v14c0 1.1.9 2 2 2h14c1.1 0 2-.9 2-2V5c0-1.1-.9-2-2-2zM9 17H7v-7h2v7zm4 0h-2V7h2v10zm4 0h-2v-4h2v4z\"/>\n",
              "    </g>\n",
              "</svg>\n",
              "  </button>\n",
              "\n",
              "<style>\n",
              "  .colab-df-quickchart {\n",
              "      --bg-color: #E8F0FE;\n",
              "      --fill-color: #1967D2;\n",
              "      --hover-bg-color: #E2EBFA;\n",
              "      --hover-fill-color: #174EA6;\n",
              "      --disabled-fill-color: #AAA;\n",
              "      --disabled-bg-color: #DDD;\n",
              "  }\n",
              "\n",
              "  [theme=dark] .colab-df-quickchart {\n",
              "      --bg-color: #3B4455;\n",
              "      --fill-color: #D2E3FC;\n",
              "      --hover-bg-color: #434B5C;\n",
              "      --hover-fill-color: #FFFFFF;\n",
              "      --disabled-bg-color: #3B4455;\n",
              "      --disabled-fill-color: #666;\n",
              "  }\n",
              "\n",
              "  .colab-df-quickchart {\n",
              "    background-color: var(--bg-color);\n",
              "    border: none;\n",
              "    border-radius: 50%;\n",
              "    cursor: pointer;\n",
              "    display: none;\n",
              "    fill: var(--fill-color);\n",
              "    height: 32px;\n",
              "    padding: 0;\n",
              "    width: 32px;\n",
              "  }\n",
              "\n",
              "  .colab-df-quickchart:hover {\n",
              "    background-color: var(--hover-bg-color);\n",
              "    box-shadow: 0 1px 2px rgba(60, 64, 67, 0.3), 0 1px 3px 1px rgba(60, 64, 67, 0.15);\n",
              "    fill: var(--button-hover-fill-color);\n",
              "  }\n",
              "\n",
              "  .colab-df-quickchart-complete:disabled,\n",
              "  .colab-df-quickchart-complete:disabled:hover {\n",
              "    background-color: var(--disabled-bg-color);\n",
              "    fill: var(--disabled-fill-color);\n",
              "    box-shadow: none;\n",
              "  }\n",
              "\n",
              "  .colab-df-spinner {\n",
              "    border: 2px solid var(--fill-color);\n",
              "    border-color: transparent;\n",
              "    border-bottom-color: var(--fill-color);\n",
              "    animation:\n",
              "      spin 1s steps(1) infinite;\n",
              "  }\n",
              "\n",
              "  @keyframes spin {\n",
              "    0% {\n",
              "      border-color: transparent;\n",
              "      border-bottom-color: var(--fill-color);\n",
              "      border-left-color: var(--fill-color);\n",
              "    }\n",
              "    20% {\n",
              "      border-color: transparent;\n",
              "      border-left-color: var(--fill-color);\n",
              "      border-top-color: var(--fill-color);\n",
              "    }\n",
              "    30% {\n",
              "      border-color: transparent;\n",
              "      border-left-color: var(--fill-color);\n",
              "      border-top-color: var(--fill-color);\n",
              "      border-right-color: var(--fill-color);\n",
              "    }\n",
              "    40% {\n",
              "      border-color: transparent;\n",
              "      border-right-color: var(--fill-color);\n",
              "      border-top-color: var(--fill-color);\n",
              "    }\n",
              "    60% {\n",
              "      border-color: transparent;\n",
              "      border-right-color: var(--fill-color);\n",
              "    }\n",
              "    80% {\n",
              "      border-color: transparent;\n",
              "      border-right-color: var(--fill-color);\n",
              "      border-bottom-color: var(--fill-color);\n",
              "    }\n",
              "    90% {\n",
              "      border-color: transparent;\n",
              "      border-bottom-color: var(--fill-color);\n",
              "    }\n",
              "  }\n",
              "</style>\n",
              "\n",
              "  <script>\n",
              "    async function quickchart(key) {\n",
              "      const quickchartButtonEl =\n",
              "        document.querySelector('#' + key + ' button');\n",
              "      quickchartButtonEl.disabled = true;  // To prevent multiple clicks.\n",
              "      quickchartButtonEl.classList.add('colab-df-spinner');\n",
              "      try {\n",
              "        const charts = await google.colab.kernel.invokeFunction(\n",
              "            'suggestCharts', [key], {});\n",
              "      } catch (error) {\n",
              "        console.error('Error during call to suggestCharts:', error);\n",
              "      }\n",
              "      quickchartButtonEl.classList.remove('colab-df-spinner');\n",
              "      quickchartButtonEl.classList.add('colab-df-quickchart-complete');\n",
              "    }\n",
              "    (() => {\n",
              "      let quickchartButtonEl =\n",
              "        document.querySelector('#df-1a483bcf-fda2-4136-812a-202a0103aeea button');\n",
              "      quickchartButtonEl.style.display =\n",
              "        google.colab.kernel.accessAllowed ? 'block' : 'none';\n",
              "    })();\n",
              "  </script>\n",
              "</div>\n",
              "\n",
              "    </div>\n",
              "  </div>\n"
            ],
            "application/vnd.google.colaboratory.intrinsic+json": {
              "type": "dataframe",
              "summary": "{\n  \"name\": \"features\",\n  \"rows\": 14,\n  \"fields\": [\n    {\n      \"column\": \"Feature\",\n      \"properties\": {\n        \"dtype\": \"string\",\n        \"num_unique_values\": 14,\n        \"samples\": [\n          \"NEUTn\",\n          \"LYMn\",\n          \"HGB\"\n        ],\n        \"semantic_type\": \"\",\n        \"description\": \"\"\n      }\n    },\n    {\n      \"column\": \"Importance\",\n      \"properties\": {\n        \"dtype\": \"number\",\n        \"std\": 0.06234687339477427,\n        \"min\": 0.008749223240440874,\n        \"max\": 0.1896056473628901,\n        \"num_unique_values\": 14,\n        \"samples\": [\n          0.02104669058768334,\n          0.009594470955365393,\n          0.1896056473628901\n        ],\n        \"semantic_type\": \"\",\n        \"description\": \"\"\n      }\n    }\n  ]\n}"
            }
          },
          "metadata": {},
          "execution_count": 28
        }
      ]
    },
    {
      "cell_type": "code",
      "source": [],
      "metadata": {
        "id": "oNz6t3emEbOY"
      },
      "execution_count": null,
      "outputs": []
    }
  ]
}